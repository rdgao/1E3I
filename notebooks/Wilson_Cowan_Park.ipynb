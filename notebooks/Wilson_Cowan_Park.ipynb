{
 "cells": [
  {
   "cell_type": "markdown",
   "metadata": {},
   "source": [
    "## Rate Model of 1 Excitatory and 2 Inhibitory populations\n",
    "3 Wilson-Cowan style populations with feedforward input from thalamus and recurrent connections.\n",
    "\n",
    "Following the 2 population model in Natan et al 2015, 4 population model in Litwin-Kumar et al 2016, and 3 population model in Park and Geffen 2019\n",
    "\n",
    "Rough outline:\n",
    "0. Make general model with 3x3 weight matrix\n",
    "1. Implement all of Park population and stimulation pattern\n",
    "\n",
    "1. Reproduce one iso-frequency unit \n",
    "3. Reproduce three iso-frquency unit model outcome \n",
    "4. Introduce \n",
    "4. Extend to reproduce experimental findings in Natan"
   ]
  },
  {
   "cell_type": "code",
   "execution_count": 1,
   "metadata": {},
   "outputs": [
    {
     "name": "stderr",
     "output_type": "stream",
     "text": [
      "/home/auguste/Software/anaconda3/lib/python3.6/site-packages/h5py/__init__.py:36: FutureWarning: Conversion of the second argument of issubdtype from `float` to `np.floating` is deprecated. In future, it will be treated as `np.float64 == np.dtype(float).type`.\n",
      "  from ._conv import register_converters as _register_converters\n"
     ]
    }
   ],
   "source": [
    "from IPython.display import HTML, IFrame, Image\n",
    "\n",
    "import numpy as np\n",
    "import matplotlib\n",
    "import matplotlib.pyplot as plt\n",
    "import pandas as pd\n",
    "import os, fnmatch\n",
    "import time\n",
    "import h5py\n",
    "from scipy.signal import find_peaks, peak_prominences\n",
    "from scipy import stats\n",
    "from scipy import optimize\n",
    "from scipy.signal import decimate\n",
    "from scipy import signal\n",
    "from scipy import integrate\n",
    "import seaborn as sns\n",
    "\n",
    "import gc\n",
    "import time\n",
    "\n",
    "%matplotlib inline\n",
    "\n",
    "\n",
    "from matplotlib import rcParams, cm\n",
    "rcParams['grid.linewidth'] = 0\n",
    "rcParams['pdf.fonttype'] = 42\n",
    "# import custom functions\n",
    "\n",
    "\n",
    "# import custom functions\n",
    "from helper_functions import *\n",
    "import helper_functions\n",
    "\n",
    "# reload(helper_functions)\n",
    "# from helper_functions import *\n",
    "figure_directory = \"/home/auguste/Documents/CNE_PhD/organisation/Cajal/Project/code/1E3I/figures/park/\"\n",
    "fontsize = 20\n",
    "axiswidth = 1.5"
   ]
  },
  {
   "cell_type": "code",
   "execution_count": 89,
   "metadata": {},
   "outputs": [],
   "source": [
    "def network(r, t, J, T):    \n",
    "    drdt = -r + transfer_func(inputcurrent(t) + np.dot(J,r))\n",
    "    return drdt/T\n",
    "\n",
    "def linear_network(r, t, W, T):    \n",
    "    # linearized network\n",
    "    drdt = np.dot(W,r)-r + constant_b(t)\n",
    "    return drdt/T\n",
    "\n",
    "def transfer_func(curr_input):\n",
    "    # transfer function from current to firing rate   \n",
    "    return curr_input\n",
    "\n",
    "def transfer_func_park(r,gain = 3, r_max = 1, r_min = 0 ):\n",
    "    # transfer function from current to firing rate\n",
    "    if r < r_min:\n",
    "        r = r_min\n",
    "    elif r > r_max:\n",
    "        r = gain\n",
    "    else:\n",
    "        r = gain*r\n",
    "    return r\n",
    "\n",
    "def inputcurrent(t):\n",
    "    # time-varying input to the network\n",
    "    return 0\n",
    "\n",
    "def constant_b(t):\n",
    "    # it's a convenient trick so we can index input by time, but it seems\n",
    "    # the integration is time asynchronous, i.e. at uneven time steps\n",
    "    return 0\n",
    "    return np.array([0,0,0,5]).T\n",
    "\n",
    "def plot_rates(t,r, colorarr):\n",
    "    c_ord = [0,2,1,4]\n",
    "    labels = ['E','PV','SOM','VIP']\n",
    "    for i in range(len(r)):\n",
    "        plt.plot(t,r[:,i],color = colorarr[i],label=labels[i])\n",
    "        \n",
    "    plt.xlabel('Time (s)')\n",
    "    plt.ylabel('Firing Rate (Hz)')\n",
    "    plt.legend()\n",
    "    \n",
    "def stimulus(dur=0.1,pause=0.3, T = 10):\n",
    "    ''' generate input stimulus \n",
    "    input:\n",
    "    dur tone duration: 100 ms\n",
    "    pause inter stimulus pause 300 ms\n",
    "    T total run time \n",
    "    output:\n",
    "    numpy array with spiketimes'''\n",
    "    N_pulse = int(np.floor(T/(dur+pause)))-1\n",
    "    print(N_pulse)\n",
    "    stim = np.zeros((N_pulse,2))\n",
    "    for i in range(N_pulse):\n",
    "        stim[i,0] = (i+1)*(dur+pause)\n",
    "    stim[:,1] = stim[:,0] + dur\n",
    "    return stim"
   ]
  },
  {
   "cell_type": "code",
   "execution_count": 90,
   "metadata": {},
   "outputs": [
    {
     "data": {
      "text/plain": [
       "[<matplotlib.collections.EventCollection at 0x7f73539b9c18>]"
      ]
     },
     "execution_count": 90,
     "metadata": {},
     "output_type": "execute_result"
    },
    {
     "data": {
      "image/png": "[encoded data removed]",
      "text/plain": [
       "<Figure size 432x288 with 1 Axes>"
      ]
     },
     "metadata": {},
     "output_type": "display_data"
    }
   ],
   "source": [
    "plt.eventplot(stim[0,:])"
   ]
  },
  {
   "cell_type": "code",
   "execution_count": 98,
   "metadata": {},
   "outputs": [],
   "source": [
    "x = np.linspace(-1,2,100)\n",
    "x_nl = np.copy(x)\n",
    "for i in range(len(x)):\n",
    "    x_nl[i] = transfer_func_park(x[i])\n",
    "\n",
    "figsize=(5, 4)\n",
    "ylabel = r\"f(x)\"\n",
    "xlabel =r\"x\"\n",
    "\n",
    "fig = plt.figure(figsize=figsize)\n",
    "ax = fig.add_subplot(111)\n",
    "axiswidth = 1.5\n",
    "for axis in ['bottom','left']:\n",
    "    ax.spines[axis].set_linewidth(axiswidth)\n",
    "ax.xaxis.set_tick_params(width=axiswidth)\n",
    "ax.yaxis.set_tick_params(width=axiswidth)\n",
    "for axis in ['top','right']:\n",
    "    ax.spines[axis].set_linewidth(0)\n",
    "plt.plot(x,x_nl, lw = 3, c = \"darkblue\", label=\"k = 10\")\n",
    "#plt.plot(x,y, lw = 3, c = \"darkred\", label=\"k = 1\")\n",
    "\n",
    "# for q in steps:\n",
    "#     plt.axhline(y=q, c=\"grey\")\n",
    "plt.xlabel(xlabel, fontsize = fontsize)\n",
    "plt.ylabel(ylabel, fontsize = fontsize)\n",
    "plt.xticks(fontsize = fontsize)\n",
    "plt.yticks(fontsize = fontsize)\n",
    "# plt.legend(fontsize = fontsize)\n",
    "\n",
    "plt.tight_layout()\n",
    "\n",
    "save_fig(figure_directory, \"nonlinearity_xy\")"
   ]
  },
  {
   "cell_type": "code",
   "execution_count": 103,
   "metadata": {},
   "outputs": [],
   "source": [
    "color = [\"midnightblue\",\"darkgreen\",\"darkorange\",\"purple\"]\n",
    "\n",
    "r0 = np.array([4,9,5]).T\n",
    "T, dt = 1, 0.0001\n",
    "t = np.arange(0,T,dt)\n",
    "\n",
    "W_EE, W_ES, W_EP,W_PE, W_PP, W_PS,W_SE, W_SP, W_SS = [1.1,2,1,1,2,2,6,0,0]\n",
    "\n",
    "\n",
    "W = np.array([[W_EE, W_ES, W_EP],\n",
    "              [W_PE, W_PP, W_PS],\n",
    "              [W_SE, W_SP, W_SS]])\n",
    "\n",
    "\n",
    "taus = np.array([0.01, 0.01, 0.01]).T # all populations have a timeconstant of 10 ms\n",
    "r = integrate.odeint(linear_network, r0, t, args=(W, taus))"
   ]
  },
  {
   "cell_type": "code",
   "execution_count": null,
   "metadata": {},
   "outputs": [],
   "source": [
    "def synaptic_depression(g_0,g,tau1,tau2)"
   ]
  },
  {
   "cell_type": "code",
   "execution_count": 83,
   "metadata": {},
   "outputs": [
    {
     "ename": "IndexError",
     "evalue": "index 3 is out of bounds for axis 1 with size 3",
     "output_type": "error",
     "traceback": [
      "\u001b[0;31m---------------------------------------------------------------------------\u001b[0m",
      "\u001b[0;31mIndexError\u001b[0m                                Traceback (most recent call last)",
      "\u001b[0;32m<ipython-input-83-74e64f0c668e>\u001b[0m in \u001b[0;36m<module>\u001b[0;34m()\u001b[0m\n\u001b[1;32m      1\u001b[0m \u001b[0mplt\u001b[0m\u001b[0;34m.\u001b[0m\u001b[0mfigure\u001b[0m\u001b[0;34m(\u001b[0m\u001b[0mfigsize\u001b[0m\u001b[0;34m=\u001b[0m\u001b[0;34m(\u001b[0m\u001b[0;36m5\u001b[0m\u001b[0;34m,\u001b[0m\u001b[0;36m4\u001b[0m\u001b[0;34m)\u001b[0m\u001b[0;34m)\u001b[0m\u001b[0;34m\u001b[0m\u001b[0m\n\u001b[0;32m----> 2\u001b[0;31m \u001b[0mplot_rates\u001b[0m\u001b[0;34m(\u001b[0m\u001b[0mt\u001b[0m\u001b[0;34m,\u001b[0m\u001b[0mr\u001b[0m\u001b[0;34m,\u001b[0m\u001b[0mcolor\u001b[0m\u001b[0;34m)\u001b[0m\u001b[0;34m\u001b[0m\u001b[0m\n\u001b[0m",
      "\u001b[0;32m<ipython-input-81-34b735c0582f>\u001b[0m in \u001b[0;36mplot_rates\u001b[0;34m(t, r, colorarr)\u001b[0m\n\u001b[1;32m     34\u001b[0m     \u001b[0mlabels\u001b[0m \u001b[0;34m=\u001b[0m \u001b[0;34m[\u001b[0m\u001b[0;34m'E'\u001b[0m\u001b[0;34m,\u001b[0m\u001b[0;34m'PV'\u001b[0m\u001b[0;34m,\u001b[0m\u001b[0;34m'SOM'\u001b[0m\u001b[0;34m,\u001b[0m\u001b[0;34m'VIP'\u001b[0m\u001b[0;34m]\u001b[0m\u001b[0;34m\u001b[0m\u001b[0m\n\u001b[1;32m     35\u001b[0m     \u001b[0;32mfor\u001b[0m \u001b[0mi\u001b[0m \u001b[0;32min\u001b[0m \u001b[0mrange\u001b[0m\u001b[0;34m(\u001b[0m\u001b[0mlen\u001b[0m\u001b[0;34m(\u001b[0m\u001b[0mr\u001b[0m\u001b[0;34m)\u001b[0m\u001b[0;34m)\u001b[0m\u001b[0;34m:\u001b[0m\u001b[0;34m\u001b[0m\u001b[0m\n\u001b[0;32m---> 36\u001b[0;31m         \u001b[0mplt\u001b[0m\u001b[0;34m.\u001b[0m\u001b[0mplot\u001b[0m\u001b[0;34m(\u001b[0m\u001b[0mt\u001b[0m\u001b[0;34m,\u001b[0m\u001b[0mr\u001b[0m\u001b[0;34m[\u001b[0m\u001b[0;34m:\u001b[0m\u001b[0;34m,\u001b[0m\u001b[0mi\u001b[0m\u001b[0;34m]\u001b[0m\u001b[0;34m,\u001b[0m\u001b[0mcolor\u001b[0m \u001b[0;34m=\u001b[0m \u001b[0mcolorarr\u001b[0m\u001b[0;34m[\u001b[0m\u001b[0mi\u001b[0m\u001b[0;34m]\u001b[0m\u001b[0;34m,\u001b[0m\u001b[0mlabel\u001b[0m\u001b[0;34m=\u001b[0m\u001b[0mlabels\u001b[0m\u001b[0;34m[\u001b[0m\u001b[0mi\u001b[0m\u001b[0;34m]\u001b[0m\u001b[0;34m)\u001b[0m\u001b[0;34m\u001b[0m\u001b[0m\n\u001b[0m\u001b[1;32m     37\u001b[0m \u001b[0;34m\u001b[0m\u001b[0m\n\u001b[1;32m     38\u001b[0m     \u001b[0mplt\u001b[0m\u001b[0;34m.\u001b[0m\u001b[0mxlabel\u001b[0m\u001b[0;34m(\u001b[0m\u001b[0;34m'Time (s)'\u001b[0m\u001b[0;34m)\u001b[0m\u001b[0;34m\u001b[0m\u001b[0m\n",
      "\u001b[0;31mIndexError\u001b[0m: index 3 is out of bounds for axis 1 with size 3"
     ]
    },
    {
     "data": {
      "image/png": "[encoded data removed]",
      "text/plain": [
       "<Figure size 360x288 with 1 Axes>"
      ]
     },
     "metadata": {},
     "output_type": "display_data"
    }
   ],
   "source": [
    "plt.figure(figsize=(5,4))\n",
    "plot_rates(t,r,color)"
   ]
  },
  {
   "cell_type": "code",
   "execution_count": 88,
   "metadata": {},
   "outputs": [
    {
     "data": {
      "text/plain": [
       "array([4., 9., 5.])"
      ]
     },
     "execution_count": 88,
     "metadata": {},
     "output_type": "execute_result"
    }
   ],
   "source": [
    "r[0]"
   ]
  },
  {
   "cell_type": "markdown",
   "metadata": {},
   "source": [
    "# Park implementation"
   ]
  },
  {
   "cell_type": "code",
   "execution_count": null,
   "metadata": {},
   "outputs": [],
   "source": [
    "par tone1on=30,tone1off=40\n",
    "par tone2on=70,tone2off=80\n",
    "par tone3on=110,tone3off=120\n",
    "par tone4on=150,tone4off=160\n",
    "par tone5on=190,tone5off=200\n",
    "\n",
    "\n",
    "    \n",
    "\n",
    "color = [\"midnightblue\",\"darkgreen\",\"darkorange\",\"purple\"]\n",
    "\n",
    "r0 = np.array([4,9,5,3]).T\n",
    "T, dt = 0.5, 0.001\n",
    "t = np.arange(0,T,dt)\n",
    "W_EE = 0.8\n",
    "W = np.array([[W_EE, -1, -1, 0],\n",
    "              [1, -1, -0.5, 0],\n",
    "              [1, 0, 0, -0.25],\n",
    "              [1, 0, -0.6, 0]])\n",
    "\n",
    "\n",
    "taus = np.array([0.02, 0.02, 0.02, 0.02]).T\n",
    "r = integrate.odeint(linear_network, r0, t, args=(W, taus))"
   ]
  },
  {
   "cell_type": "code",
   "execution_count": 1,
   "metadata": {},
   "outputs": [
    {
     "name": "stdout",
     "output_type": "stream",
     "text": [
      "hello\n"
     ]
    }
   ],
   "source": [
    "#fig = plt.figure(figsize=(4,3))\n",
    "fig, (ax1, ax2, ax3) = plt.subplots(3, 1, sharex=True, figsize=(5,10))\n",
    "fig.subplots_adjust(wspace=0.2)\n",
    "axiswidth = 1.5\n",
    "\n",
    "ylabel = r\"$V $ [mV]\"\n",
    "xlabel =\"time [ms]\"\n",
    "\n",
    "\n",
    "for axis in ['bottom','left']:\n",
    "    ax1.spines[axis].set_linewidth(axiswidth)\n",
    "ax1.xaxis.set_tick_params(width=axiswidth)\n",
    "ax1.yaxis.set_tick_params(width=axiswidth)\n",
    "for axis in ['top','right']:\n",
    "    ax1.spines[axis].set_linewidth(0)\n",
    "ax1.plot(t, v, lw = 3, c = \"darkblue\")\n",
    "#plt.plot(t,gi, label=\"I input\", lw = 3, c = \"darkred\")\n",
    "\n",
    "#ax1.set_xlabel(xlabel, fontsize = fontsize)\n",
    "ax1.set_ylabel(ylabel, fontsize = fontsize)\n",
    "\n",
    "\n",
    "for label in (ax1.get_yticklabels()):\n",
    "        label.set_fontsize(fontsize)\n",
    "for label in (ax1.get_xticklabels()):\n",
    "        label.set_fontsize(fontsize)\n",
    "\n",
    "        \n",
    "ylabel = \"gating vatiables\"\n",
    "xlabel =\"time [ms]\"\n",
    "\n",
    "\n",
    "for axis in ['bottom','left']:\n",
    "    ax2.spines[axis].set_linewidth(axiswidth)\n",
    "ax2.xaxis.set_tick_params(width=axiswidth)\n",
    "ax2.yaxis.set_tick_params(width=axiswidth)\n",
    "for axis in ['top','right']:\n",
    "    ax2.spines[axis].set_linewidth(0)\n",
    "ax2.plot(t, n, label = 'n',lw = 3, c = \"darkgreen\")\n",
    "ax2.plot(t, h, label = 'h',lw = 3, c = \"magenta\")\n",
    "ax2.plot(t, m, label = 'm',lw = 3, c = \"darkorange\")\n",
    "\n",
    "#plt.plot(t,gi, label=\"I input\", lw = 3, c = \"darkred\")\n",
    "\n",
    "#ax2.set_xlabel(xlabel, fontsize = fontsize)\n",
    "ax2.set_ylabel(ylabel, fontsize = fontsize)\n",
    "ax2.legend(fontsize = fontsize)\n",
    "\n",
    "for label in (ax2.get_yticklabels()):\n",
    "        label.set_fontsize(fontsize)\n",
    "for label in (ax2.get_xticklabels()):\n",
    "        label.set_fontsize(fontsize)\n",
    "\n",
    "ylabel = \"I [nA]\"\n",
    "xlabel =\"time [ms]\"\n",
    "\n",
    "\n",
    "for axis in ['bottom','left']:\n",
    "    ax3.spines[axis].set_linewidth(axiswidth)\n",
    "ax3.xaxis.set_tick_params(width=axiswidth)\n",
    "ax3.yaxis.set_tick_params(width=axiswidth)\n",
    "for axis in ['top','right']:\n",
    "    ax3.spines[axis].set_linewidth(0)\n",
    "\n",
    "ax3.plot(t, I_ex, label=\"E input\", lw = 3, c = \"darkred\")\n",
    "\n",
    "ax3.set_xlabel(xlabel, fontsize = fontsize)\n",
    "ax3.set_ylabel(ylabel, fontsize = fontsize)\n",
    "\n",
    "for label in (ax3.get_yticklabels()):\n",
    "        label.set_fontsize(fontsize)\n",
    "for label in (ax3.get_xticklabels()):\n",
    "        label.set_fontsize(fontsize)\n",
    "plt.tight_layout()\n",
    "save_fig(figure_directory, \"HH_model\")"
   ]
  },
  {
   "cell_type": "code",
   "execution_count": null,
   "metadata": {},
   "outputs": [],
   "source": [
    "figsize=(5, 4)\n",
    "ylabel = r\"y\"\n",
    "xlabel =r\"x\"\n",
    "\n",
    "fig = plt.figure(figsize=figsize)\n",
    "ax = fig.add_subplot(111)\n",
    "axiswidth = 1.5\n",
    "for axis in ['bottom','left']:\n",
    "    ax.spines[axis].set_linewidth(axiswidth)\n",
    "ax.xaxis.set_tick_params(width=axiswidth)\n",
    "ax.yaxis.set_tick_params(width=axiswidth)\n",
    "for axis in ['top','right']:\n",
    "    ax.spines[axis].set_linewidth(0)\n",
    "plt.plot(x,z, lw = 3, c = \"darkblue\", label=\"k = 10\")\n",
    "plt.plot(x,y, lw = 3, c = \"darkred\", label=\"k = 1\")\n",
    "\n",
    "for q in steps:\n",
    "    plt.axhline(y=q, c=\"grey\")\n",
    "plt.xlabel(xlabel, fontsize = fontsize)\n",
    "plt.ylabel(ylabel, fontsize = fontsize)\n",
    "plt.xticks(fontsize = fontsize)\n",
    "plt.yticks(fontsize = fontsize)\n",
    "plt.legend(fontsize = fontsize)\n",
    "\n",
    "plt.tight_layout()\n",
    "\n",
    "save_fig(figure_directory, \"sigmoid_xy\")"
   ]
  }
 ],
 "metadata": {
  "kernelspec": {
   "display_name": "Python 3",
   "language": "python",
   "name": "python3"
  },
  "language_info": {
   "codemirror_mode": {
    "name": "ipython",
    "version": 3
   },
   "file_extension": ".py",
   "mimetype": "text/x-python",
   "name": "python",
   "nbconvert_exporter": "python",
   "pygments_lexer": "ipython3",
   "version": "3.6.5"
  }
 },
 "nbformat": 4,
 "nbformat_minor": 2
}
