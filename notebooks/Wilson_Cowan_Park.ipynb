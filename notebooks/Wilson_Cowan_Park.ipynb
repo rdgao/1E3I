{
 "cells": [
  {
   "cell_type": "markdown",
   "metadata": {},
   "source": [
    "# Rate Model of 1 Excitatory and 3 Inhibitory populations\n",
    "4 Wilson-Cowan style populations with feedforward input from thalamus and recurrent connections.\n",
    "\n",
    "Following the 2 population model in Natan et al 2015, and 4 population model in Litwin-Kumar et al 2016\n",
    "\n",
    "Rough outline:\n",
    "0. Make general model with 4x4 weight matrix\n",
    "1. Set 2 of the I population weights to 0 and reproduce result from Natan\n",
    "\n",
    "UPDATE: I'm not sure how much it is worth to try to reproduce this network, because it doesn't easily generalize to the Litwin-Kumar 4 population network. There are some weird specificities in here, like the inhibitory transfer function, and the precomputed input current and opto current. One thing that is probably useful is the synaptic adaptiation. So I'm going to skip directly to the Litwin-Kumar network here.\n",
    "\n",
    "UPDATE 2: the rate network in Litwin-Kumar is the linearized network...\n",
    "\n",
    "2. Reproduce steady-state 2 population result from Litwin-Kumar\n",
    "3. Reproduce steady-state 4 population result from Litwin-Kumar\n",
    "4. Extend to reproduce experimental findings in Natan"
   ]
  },
  {
   "cell_type": "code",
   "execution_count": 5,
   "metadata": {},
   "outputs": [],
   "source": [
    "from scipy import integrate\n",
    "import numpy as np\n",
    "import matplotlib.pyplot as plt\n",
    "import seaborn as sns\n",
    "%matplotlib inline"
   ]
  },
  {
   "cell_type": "code",
   "execution_count": 14,
   "metadata": {},
   "outputs": [],
   "source": [
    "def network(r, t, J, T):    \n",
    "    drdt = -r + transfer_func(mu(t) + np.dot(J,r))\n",
    "    return drdt/T\n",
    "\n",
    "def linear_network(r, t, W, T):    \n",
    "    # linearized network\n",
    "    drdt = (np.dot(W,r)-r + constant_b(t))/T\n",
    "    return drdt\n",
    "\n",
    "def transfer_func(curr_input):\n",
    "    # transfer function from current to firing rate    \n",
    "    return curr_input\n",
    "\n",
    "def mu(t):\n",
    "    # time-varying input to the network\n",
    "    return 0\n",
    "\n",
    "def constant_b(t):\n",
    "    # it's a convenient trick so we can index input by time, but it seems\n",
    "    # the integration is time asynchronous, i.e. at uneven time steps\n",
    "    return 0\n",
    "    return np.array([0,0,0,5]).T\n",
    "color = [\"midnightblue\",\"darkgreen\",\"darkorange\",\"magenta\"]\n",
    "def plot_rates(t,r, colorarr):\n",
    "    c_ord = [0,2,1,4]\n",
    "    labels = ['E','PV','SOM','VIP']\n",
    "    for i in range(4):\n",
    "        plt.plot(t,r[:,i],color = colorarr[i],label=labels[i])\n",
    "        \n",
    "    plt.xlabel('Time (s)')\n",
    "    plt.ylabel('Firing Rate (Hz)')\n",
    "    plt.legend()"
   ]
  },
  {
   "cell_type": "code",
   "execution_count": 15,
   "metadata": {},
   "outputs": [],
   "source": [
    "r0 = np.array([4,9,5,3]).T\n",
    "T, dt = 0.5, 0.001\n",
    "t = np.arange(0,T,dt)\n",
    "W_EE = 0.8\n",
    "W = np.array([[W_EE, -1, -1, 0],\n",
    "              [1, -1, -0.5, 0],\n",
    "              [1, 0, 0, -0.25],\n",
    "              [1, 0, -0.6, 0]])\n",
    "\n",
    "\n",
    "taus = np.array([0.02, 0.02, 0.02, 0.02]).T\n",
    "r = integrate.odeint(linear_network, r0, t, args=(W, taus))"
   ]
  },
  {
   "cell_type": "code",
   "execution_count": 16,
   "metadata": {},
   "outputs": [
    {
     "data": {
      "image/png": "[encoded data removed]",
      "text/plain": [
       "<Figure size 360x288 with 1 Axes>"
      ]
     },
     "metadata": {},
     "output_type": "display_data"
    }
   ],
   "source": [
    "plt.figure(figsize=(5,4))\n",
    "plot_rates(t,r,color)"
   ]
  },
  {
   "cell_type": "code",
   "execution_count": null,
   "metadata": {
    "collapsed": true
   },
   "outputs": [],
   "source": []
  }
 ],
 "metadata": {
  "kernelspec": {
   "display_name": "Python 3",
   "language": "python",
   "name": "python3"
  },
  "language_info": {
   "codemirror_mode": {
    "name": "ipython",
    "version": 3
   },
   "file_extension": ".py",
   "mimetype": "text/x-python",
   "name": "python",
   "nbconvert_exporter": "python",
   "pygments_lexer": "ipython3",
   "version": "3.6.5"
  }
 },
 "nbformat": 4,
 "nbformat_minor": 2
}
